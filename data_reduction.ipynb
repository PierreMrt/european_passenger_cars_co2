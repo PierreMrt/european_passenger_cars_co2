{
 "cells": [
  {
   "cell_type": "code",
   "execution_count": 1,
   "id": "fa5de813",
   "metadata": {},
   "outputs": [],
   "source": [
    "import pandas as pd"
   ]
  },
  {
   "cell_type": "code",
   "execution_count": 2,
   "id": "6e454f2d",
   "metadata": {},
   "outputs": [
    {
     "name": "stderr",
     "output_type": "stream",
     "text": [
      "C:\\Temp\\ipykernel_10436\\2355141432.py:1: DtypeWarning: Columns (3,8,10,12,28,35,37,38) have mixed types. Specify dtype option on import or set low_memory=False.\n",
      "  df = pd.read_csv('data/data.csv')\n"
     ]
    }
   ],
   "source": [
    "df = pd.read_csv('data/data.csv')"
   ]
  },
  {
   "cell_type": "code",
   "execution_count": 3,
   "id": "e33f8f15",
   "metadata": {},
   "outputs": [
    {
     "data": {
      "text/plain": [
       "ID                             0\n",
       "Country                        0\n",
       "VFN                        63011\n",
       "Mp                        635883\n",
       "Mh                             0\n",
       "Man                            0\n",
       "MMS                     13172679\n",
       "Tan                        63591\n",
       "T                           3149\n",
       "Va                         44684\n",
       "Ve                         58084\n",
       "Mk                          1001\n",
       "Cn                          1326\n",
       "Ct                             5\n",
       "Cr                             7\n",
       "r                              0\n",
       "m (kg)                        68\n",
       "Mt                         59358\n",
       "Enedc (g/km)            11435105\n",
       "Ewltp (g/km)               23891\n",
       "W (mm)                   4695968\n",
       "At1 (mm)                 4696116\n",
       "At2 (mm)                 4700532\n",
       "Ft                             0\n",
       "Fm                             4\n",
       "ec (cm3)                 2039932\n",
       "ep (KW)                   132718\n",
       "z (Wh/km)                9874786\n",
       "IT                       5204188\n",
       "Ernedc (g/km)           13172679\n",
       "Erwltp (g/km)            5204219\n",
       "De                      13172679\n",
       "Vf                      13172679\n",
       "Status                         0\n",
       "year                           0\n",
       "Date of registration      116552\n",
       "Fuel consumption         2723752\n",
       "ech                     10699849\n",
       "RLFI                    10908856\n",
       "Electric range (km)     10234348\n",
       "dtype: int64"
      ]
     },
     "execution_count": 3,
     "metadata": {},
     "output_type": "execute_result"
    }
   ],
   "source": [
    "df.isna().sum()"
   ]
  },
  {
   "cell_type": "code",
   "execution_count": 4,
   "id": "dd39f275",
   "metadata": {},
   "outputs": [],
   "source": [
    "# sélection des colonnes à supprimer car vides\n",
    "col_to_del = ['MMS', 'Enedc (g/km)', 'W (mm)', 'At1 (mm)', 'At2 (mm)', 'Ernedc (g/km)', 'De', 'Vf']"
   ]
  },
  {
   "cell_type": "code",
   "execution_count": 5,
   "id": "a1bcd03a",
   "metadata": {},
   "outputs": [],
   "source": [
    "# colonnes à supprimer car pas assez remplies (à valider, on peut peut être aussi inclure IT et Erwltp (g/km))\n",
    "col_to_del.extend(('RLFI', 'z (Wh/km)', 'Erwltp (g/km)'))"
   ]
  },
  {
   "cell_type": "code",
   "execution_count": 6,
   "id": "6f6454b8",
   "metadata": {},
   "outputs": [],
   "source": [
    "# colonnes à supprimer car doublons d'information\n",
    "col_to_del.extend(('Mp', 'Mh', 'Man', 'Cr', 'm (kg)', 'Fm', 'VFN'))"
   ]
  },
  {
   "cell_type": "code",
   "execution_count": null,
   "id": "6034d68e",
   "metadata": {},
   "outputs": [],
   "source": [
    "# colonnes à supprimer car non pertinentes (infos administratives ou relatives au jeu de données en lui-même)\n",
    "col_to_del.extend(('ID', 'Status', 'r', 'year', 'Tan', 'Va', 'Ve', 'Ct', 'Cr', 'T'))"
   ]
  },
  {
   "cell_type": "code",
   "execution_count": 8,
   "id": "29ee23a2",
   "metadata": {},
   "outputs": [],
   "source": [
    "# suppression des lignes concernant les véhicules électriques ainsi que des colonnes concernant ces véhicules uniquement\n",
    "df = df[df['Ft'] != 'electric']\n",
    "col_to_del.append('Electric range (km)')"
   ]
  },
  {
   "cell_type": "code",
   "execution_count": 9,
   "id": "f0232d58",
   "metadata": {},
   "outputs": [],
   "source": [
    "# suppression des lignes concernant les véhicules avec un type de carburant peu commun\n",
    "exclusions = ['lpg', 'e85', 'ng', 'hydrogen']\n",
    "df_filtered = df[~df['Ft'].isin(exclusions)]"
   ]
  },
  {
   "cell_type": "code",
   "execution_count": null,
   "id": "c420db31",
   "metadata": {},
   "outputs": [],
   "source": [
    "# suppresion de colonnes sélectionnées\n",
    "df = df.drop(col_to_del, axis=1)"
   ]
  },
  {
   "cell_type": "code",
   "execution_count": 11,
   "id": "d89a6096",
   "metadata": {},
   "outputs": [],
   "source": [
    "# suppresion des doublons\n",
    "df = df.drop_duplicates()"
   ]
  },
  {
   "cell_type": "code",
   "execution_count": 47,
   "id": "21643f4f",
   "metadata": {},
   "outputs": [],
   "source": [
    "def remove_outliers(df, value_col):\n",
    "    Q1 = df[value_col].quantile(0.25)\n",
    "    Q3 = df[value_col].quantile(0.75)\n",
    "\n",
    "    IQR = Q3 - Q1\n",
    "    lower = Q1 - 1.5 * IQR\n",
    "    upper = Q3 + 1.5 * IQR\n",
    "    return df[df[value_col]<upper]"
   ]
  },
  {
   "cell_type": "code",
   "execution_count": 48,
   "id": "d0f5ba84",
   "metadata": {},
   "outputs": [],
   "source": [
    "df = remove_outliers(df, 'ep (KW)')"
   ]
  },
  {
   "cell_type": "code",
   "execution_count": 12,
   "id": "bcf8d711",
   "metadata": {},
   "outputs": [],
   "source": [
    "df.to_csv('data/data_reduced.csv', index=False)"
   ]
  },
  {
   "cell_type": "code",
   "execution_count": 46,
   "id": "dee2f51c",
   "metadata": {},
   "outputs": [
    {
     "name": "stderr",
     "output_type": "stream",
     "text": [
      "C:\\Temp\\ipykernel_10436\\359020440.py:1: DtypeWarning: Columns (9,12) have mixed types. Specify dtype option on import or set low_memory=False.\n",
      "  df = pd.read_csv('data/data_reduced.csv')\n"
     ]
    }
   ],
   "source": [
    "df = pd.read_csv('data/data_reduced.csv')"
   ]
  },
  {
   "cell_type": "code",
   "execution_count": 51,
   "id": "36855a6b",
   "metadata": {},
   "outputs": [
    {
     "data": {
      "text/plain": [
       "Country                       0\n",
       "T                          1902\n",
       "Mk                          443\n",
       "Cn                          538\n",
       "Mt                        22516\n",
       "Ewltp (g/km)              10308\n",
       "Ft                            0\n",
       "ec (cm3)                 149747\n",
       "ep (KW)                       0\n",
       "IT                      1932746\n",
       "Date of registration       2172\n",
       "Fuel consumption         482189\n",
       "ech                     4958446\n",
       "dtype: int64"
      ]
     },
     "execution_count": 51,
     "metadata": {},
     "output_type": "execute_result"
    }
   ],
   "source": [
    "df.isna().sum()"
   ]
  },
  {
   "cell_type": "code",
   "execution_count": 49,
   "id": "c4ef51a7",
   "metadata": {},
   "outputs": [
    {
     "data": {
      "text/plain": [
       "(5857896, 13)"
      ]
     },
     "execution_count": 49,
     "metadata": {},
     "output_type": "execute_result"
    }
   ],
   "source": [
    "df.shape"
   ]
  },
  {
   "cell_type": "code",
   "execution_count": 39,
   "id": "46b33280",
   "metadata": {},
   "outputs": [
    {
     "data": {
      "text/plain": [
       "array([2021.,   nan, 2022., 2023.])"
      ]
     },
     "execution_count": 39,
     "metadata": {},
     "output_type": "execute_result"
    }
   ],
   "source": [
    "pd.to_datetime(df['Date of registration']).dt.year.unique()"
   ]
  }
 ],
 "metadata": {
  "kernelspec": {
   "display_name": ".venv",
   "language": "python",
   "name": "python3"
  },
  "language_info": {
   "codemirror_mode": {
    "name": "ipython",
    "version": 3
   },
   "file_extension": ".py",
   "mimetype": "text/x-python",
   "name": "python",
   "nbconvert_exporter": "python",
   "pygments_lexer": "ipython3",
   "version": "3.9.2"
  }
 },
 "nbformat": 4,
 "nbformat_minor": 5
}
