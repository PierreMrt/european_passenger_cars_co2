{
 "cells": [
  {
   "cell_type": "code",
   "execution_count": 1,
   "id": "fa5de813",
   "metadata": {},
   "outputs": [],
   "source": [
    "import pandas as pd"
   ]
  },
  {
   "cell_type": "code",
   "execution_count": 11,
   "id": "6e454f2d",
   "metadata": {},
   "outputs": [],
   "source": [
    "df = pd.read_csv('data/data.csv')"
   ]
  },
  {
   "cell_type": "code",
   "execution_count": 12,
   "id": "e33f8f15",
   "metadata": {},
   "outputs": [
    {
     "data": {
      "text/plain": [
       "ID                            0\n",
       "Country                       0\n",
       "VFN                       24707\n",
       "Mp                       337389\n",
       "Mh                            0\n",
       "Man                           0\n",
       "MMS                     4654754\n",
       "Tan                       25098\n",
       "T                          1093\n",
       "Va                        18022\n",
       "Ve                        23392\n",
       "Mk                          311\n",
       "Cn                          341\n",
       "Ct                            0\n",
       "Cr                            0\n",
       "r                             0\n",
       "m (kg)                        5\n",
       "Mt                        23076\n",
       "Enedc (g/km)            4654754\n",
       "Ewltp (g/km)              10234\n",
       "W (mm)                  4654754\n",
       "At1 (mm)                4654754\n",
       "At2 (mm)                4654754\n",
       "Ft                            0\n",
       "Fm                            0\n",
       "ec (cm3)                 833604\n",
       "ep (KW)                   20710\n",
       "z (Wh/km)               3491339\n",
       "IT                      1680078\n",
       "Ernedc (g/km)           4654754\n",
       "Erwltp (g/km)           1680094\n",
       "De                      4654754\n",
       "Vf                      4654754\n",
       "Status                        0\n",
       "year                          0\n",
       "Date of registration          0\n",
       "Fuel consumption         855532\n",
       "ech                     2181924\n",
       "RLFI                    2390931\n",
       "Electric range (km)     3491852\n",
       "dtype: int64"
      ]
     },
     "execution_count": 12,
     "metadata": {},
     "output_type": "execute_result"
    }
   ],
   "source": [
    "df.isna().sum()"
   ]
  },
  {
   "cell_type": "code",
   "execution_count": 20,
   "id": "dd39f275",
   "metadata": {},
   "outputs": [],
   "source": [
    "# sélection des colonnes à supprimer car vides\n",
    "col_to_del = ['MMS', 'Enedc (g/km)', 'W (mm)', 'At1 (mm)', 'At2 (mm)', 'Ernedc (g/km)', 'De', 'Vf']"
   ]
  },
  {
   "cell_type": "code",
   "execution_count": 21,
   "id": "a1bcd03a",
   "metadata": {},
   "outputs": [],
   "source": [
    "# colonnes à supprimer car pas assez remplies (à valider, on peut peut être aussi inclure IT et Erwltp (g/km))\n",
    "col_to_del.append('RLFI')"
   ]
  },
  {
   "cell_type": "code",
   "execution_count": 22,
   "id": "6f6454b8",
   "metadata": {},
   "outputs": [],
   "source": [
    "# colonnes à supprimer car doublons d'information\n",
    "col_to_del.extend(('Mp', 'Mh', 'Man', 'Cr', 'm (kg)', 'Fm'))"
   ]
  },
  {
   "cell_type": "code",
   "execution_count": 23,
   "id": "6034d68e",
   "metadata": {},
   "outputs": [],
   "source": [
    "# colonnes à supprimer car non pertinentes (infos administratives ou relatives au jeu de données en lui-même)\n",
    "col_to_del.extend(('ID', 'Status', 'r', 'year', 'Tan', 'Va', 'Ve', 'Ct', 'Cr'))"
   ]
  },
  {
   "cell_type": "code",
   "execution_count": 24,
   "id": "29ee23a2",
   "metadata": {},
   "outputs": [],
   "source": [
    "# suppression des lignes concernant les véhicules électriques ainsi que des colonnes concernant ces véhicules uniquement\n",
    "df = df[df['Ft'] != 'electric']\n",
    "col_to_del.append('Electric range (km)')"
   ]
  },
  {
   "cell_type": "code",
   "execution_count": 26,
   "id": "c420db31",
   "metadata": {},
   "outputs": [],
   "source": [
    "# suppresion de colonnes sélectionnées\n",
    "df = df.drop(col_to_del, axis=1)"
   ]
  },
  {
   "cell_type": "code",
   "execution_count": 27,
   "id": "d89a6096",
   "metadata": {},
   "outputs": [],
   "source": [
    "# suppresion des doublons\n",
    "df = df.drop_duplicates()"
   ]
  },
  {
   "cell_type": "code",
   "execution_count": 28,
   "id": "bcf8d711",
   "metadata": {},
   "outputs": [],
   "source": [
    "df.to_csv('data/data_reduced.csv', index=False)"
   ]
  },
  {
   "cell_type": "code",
   "execution_count": 29,
   "id": "dee2f51c",
   "metadata": {},
   "outputs": [],
   "source": [
    "df = pd.read_csv('data/data_reduced.csv')"
   ]
  },
  {
   "cell_type": "code",
   "execution_count": 31,
   "id": "5f0a7029",
   "metadata": {},
   "outputs": [
    {
     "data": {
      "text/html": [
       "<div>\n",
       "<style scoped>\n",
       "    .dataframe tbody tr th:only-of-type {\n",
       "        vertical-align: middle;\n",
       "    }\n",
       "\n",
       "    .dataframe tbody tr th {\n",
       "        vertical-align: top;\n",
       "    }\n",
       "\n",
       "    .dataframe thead th {\n",
       "        text-align: right;\n",
       "    }\n",
       "</style>\n",
       "<table border=\"1\" class=\"dataframe\">\n",
       "  <thead>\n",
       "    <tr style=\"text-align: right;\">\n",
       "      <th></th>\n",
       "      <th>Country</th>\n",
       "      <th>VFN</th>\n",
       "      <th>T</th>\n",
       "      <th>Mk</th>\n",
       "      <th>Cn</th>\n",
       "      <th>Mt</th>\n",
       "      <th>Ewltp (g/km)</th>\n",
       "      <th>Ft</th>\n",
       "      <th>ec (cm3)</th>\n",
       "      <th>ep (KW)</th>\n",
       "      <th>z (Wh/km)</th>\n",
       "      <th>IT</th>\n",
       "      <th>Erwltp (g/km)</th>\n",
       "      <th>Date of registration</th>\n",
       "      <th>Fuel consumption</th>\n",
       "      <th>ech</th>\n",
       "    </tr>\n",
       "  </thead>\n",
       "  <tbody>\n",
       "    <tr>\n",
       "      <th>0</th>\n",
       "      <td>DE</td>\n",
       "      <td>IP-2021_536K7F-YV1-1</td>\n",
       "      <td>X</td>\n",
       "      <td>VOLVO</td>\n",
       "      <td>XC40</td>\n",
       "      <td>1822.0</td>\n",
       "      <td>153.0</td>\n",
       "      <td>petrol</td>\n",
       "      <td>1969.0</td>\n",
       "      <td>120.0</td>\n",
       "      <td>NaN</td>\n",
       "      <td>NaN</td>\n",
       "      <td>NaN</td>\n",
       "      <td>2023-11-06</td>\n",
       "      <td>6.7</td>\n",
       "      <td>Euro 6 AP</td>\n",
       "    </tr>\n",
       "    <tr>\n",
       "      <th>1</th>\n",
       "      <td>DE</td>\n",
       "      <td>IP-03_MP_0298-ZFA-1</td>\n",
       "      <td>MP</td>\n",
       "      <td>JEEP</td>\n",
       "      <td>COMPASS</td>\n",
       "      <td>1696.0</td>\n",
       "      <td>133.0</td>\n",
       "      <td>petrol</td>\n",
       "      <td>1469.0</td>\n",
       "      <td>96.0</td>\n",
       "      <td>NaN</td>\n",
       "      <td>e3 37 32</td>\n",
       "      <td>2.20</td>\n",
       "      <td>2023-05-25</td>\n",
       "      <td>5.8</td>\n",
       "      <td>NaN</td>\n",
       "    </tr>\n",
       "    <tr>\n",
       "      <th>2</th>\n",
       "      <td>DE</td>\n",
       "      <td>IP-MQB27ZZ_A1_0529-WAU-1</td>\n",
       "      <td>GB</td>\n",
       "      <td>AUDI</td>\n",
       "      <td>A1 SPORTBACK</td>\n",
       "      <td>1294.0</td>\n",
       "      <td>129.0</td>\n",
       "      <td>petrol</td>\n",
       "      <td>999.0</td>\n",
       "      <td>70.0</td>\n",
       "      <td>NaN</td>\n",
       "      <td>e13 29</td>\n",
       "      <td>1.13</td>\n",
       "      <td>2023-03-20</td>\n",
       "      <td>5.7</td>\n",
       "      <td>NaN</td>\n",
       "    </tr>\n",
       "    <tr>\n",
       "      <th>3</th>\n",
       "      <td>DE</td>\n",
       "      <td>IP-MQB27ZZ_A0_1005-TMB-1</td>\n",
       "      <td>PJ</td>\n",
       "      <td>SKODA</td>\n",
       "      <td>FABIA</td>\n",
       "      <td>1232.0</td>\n",
       "      <td>117.0</td>\n",
       "      <td>petrol</td>\n",
       "      <td>999.0</td>\n",
       "      <td>59.0</td>\n",
       "      <td>NaN</td>\n",
       "      <td>e8 29 37</td>\n",
       "      <td>1.94</td>\n",
       "      <td>2023-08-03</td>\n",
       "      <td>5.2</td>\n",
       "      <td>NaN</td>\n",
       "    </tr>\n",
       "    <tr>\n",
       "      <th>4</th>\n",
       "      <td>DE</td>\n",
       "      <td>IP-0001010-WBA-1</td>\n",
       "      <td>U1X</td>\n",
       "      <td>BMW</td>\n",
       "      <td>X1 XDRIVE 25E</td>\n",
       "      <td>2066.0</td>\n",
       "      <td>17.0</td>\n",
       "      <td>petrol/electric</td>\n",
       "      <td>1499.0</td>\n",
       "      <td>100.0</td>\n",
       "      <td>151.0</td>\n",
       "      <td>NaN</td>\n",
       "      <td>NaN</td>\n",
       "      <td>2023-08-09</td>\n",
       "      <td>0.7</td>\n",
       "      <td>NaN</td>\n",
       "    </tr>\n",
       "  </tbody>\n",
       "</table>\n",
       "</div>"
      ],
      "text/plain": [
       "  Country                       VFN    T     Mk             Cn      Mt  \\\n",
       "0      DE      IP-2021_536K7F-YV1-1    X  VOLVO           XC40  1822.0   \n",
       "1      DE       IP-03_MP_0298-ZFA-1   MP   JEEP        COMPASS  1696.0   \n",
       "2      DE  IP-MQB27ZZ_A1_0529-WAU-1   GB   AUDI   A1 SPORTBACK  1294.0   \n",
       "3      DE  IP-MQB27ZZ_A0_1005-TMB-1   PJ  SKODA          FABIA  1232.0   \n",
       "4      DE          IP-0001010-WBA-1  U1X    BMW  X1 XDRIVE 25E  2066.0   \n",
       "\n",
       "   Ewltp (g/km)               Ft  ec (cm3)  ep (KW)  z (Wh/km)        IT  \\\n",
       "0         153.0           petrol    1969.0    120.0        NaN       NaN   \n",
       "1         133.0           petrol    1469.0     96.0        NaN  e3 37 32   \n",
       "2         129.0           petrol     999.0     70.0        NaN    e13 29   \n",
       "3         117.0           petrol     999.0     59.0        NaN  e8 29 37   \n",
       "4          17.0  petrol/electric    1499.0    100.0      151.0       NaN   \n",
       "\n",
       "   Erwltp (g/km) Date of registration  Fuel consumption         ech  \n",
       "0            NaN           2023-11-06                6.7  Euro 6 AP  \n",
       "1           2.20           2023-05-25                5.8        NaN  \n",
       "2           1.13           2023-03-20                5.7        NaN  \n",
       "3           1.94           2023-08-03                5.2        NaN  \n",
       "4            NaN           2023-08-09                0.7        NaN  "
      ]
     },
     "execution_count": 31,
     "metadata": {},
     "output_type": "execute_result"
    }
   ],
   "source": [
    "df.head(5)"
   ]
  }
 ],
 "metadata": {
  "kernelspec": {
   "display_name": ".venv",
   "language": "python",
   "name": "python3"
  },
  "language_info": {
   "codemirror_mode": {
    "name": "ipython",
    "version": 3
   },
   "file_extension": ".py",
   "mimetype": "text/x-python",
   "name": "python",
   "nbconvert_exporter": "python",
   "pygments_lexer": "ipython3",
   "version": "3.12.10"
  }
 },
 "nbformat": 4,
 "nbformat_minor": 5
}
