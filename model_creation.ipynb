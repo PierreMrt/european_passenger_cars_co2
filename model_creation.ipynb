{
 "cells": [
  {
   "cell_type": "code",
   "execution_count": 2,
   "id": "206a5b8c",
   "metadata": {},
   "outputs": [],
   "source": [
    "import pandas as pd\n",
    "\n",
    "from scripts.feature_engineering import get_feature_transformer\n",
    "\n",
    "from sklearn.pipeline import Pipeline\n",
    "from sklearn.experimental import enable_halving_search_cv\n",
    "from sklearn.model_selection import cross_validate, train_test_split, HalvingGridSearchCV\n",
    "from sklearn.linear_model import LinearRegression, Ridge\n",
    "from sklearn.ensemble import RandomForestRegressor, GradientBoostingRegressor\n",
    "from sklearn.metrics import mean_squared_error, make_scorer, r2_score"
   ]
  },
  {
   "cell_type": "code",
   "execution_count": 3,
   "id": "f04e6a2b",
   "metadata": {},
   "outputs": [],
   "source": [
    "INPUT_DATA = 'data/data_processed.csv'"
   ]
  },
  {
   "cell_type": "code",
   "execution_count": 4,
   "id": "fda0ea73",
   "metadata": {},
   "outputs": [],
   "source": [
    "df = pd.read_csv(INPUT_DATA)"
   ]
  },
  {
   "cell_type": "code",
   "execution_count": 5,
   "id": "558bf5f9",
   "metadata": {},
   "outputs": [],
   "source": [
    "target = \"Ewltp (g/km)\"\n",
    "features = [\"m (kg)\", \"Ft\", \"ec (cm3)\", \"ep (KW)\", \"age_months\"] # \"Country\", \"Mk\", \n",
    "\n",
    "X = df[features]\n",
    "y = df[target]"
   ]
  },
  {
   "cell_type": "code",
   "execution_count": 6,
   "id": "0f74f137",
   "metadata": {},
   "outputs": [],
   "source": [
    "X_train, X_test, y_train, y_test = train_test_split(\n",
    "    X, y, test_size=0.2, random_state=42\n",
    ")"
   ]
  },
  {
   "cell_type": "code",
   "execution_count": null,
   "id": "f271430b",
   "metadata": {},
   "outputs": [],
   "source": [
    "# models = [\n",
    "#     (\"LinearRegression\", LinearRegression()),\n",
    "#     (\"Ridge\", Ridge(alpha=1.0)),\n",
    "#     (\"RandomForest\", RandomForestRegressor(n_estimators=100, max_depth=None)),\n",
    "#     (\"GradientBoosting\", GradientBoostingRegressor(n_estimators=100, learning_rate=0.1, max_depth=3))\n",
    "# ]"
   ]
  },
  {
   "cell_type": "code",
   "execution_count": 7,
   "id": "843bf6a8",
   "metadata": {},
   "outputs": [],
   "source": [
    "feature_transformer = get_feature_transformer()\n",
    "\n",
    "scoring = {\n",
    "    \"neg_mse\": make_scorer(mean_squared_error, greater_is_better=False),\n",
    "    \"r2\": \"r2\",\n",
    "}"
   ]
  },
  {
   "cell_type": "code",
   "execution_count": null,
   "id": "a02d6ac8",
   "metadata": {},
   "outputs": [
    {
     "name": "stdout",
     "output_type": "stream",
     "text": [
      "LinearRegression:\n",
      "  Train MSE: -232.4599\n",
      "  Train R2: 0.8646\n",
      "  Val MSE: -232.4629\n",
      "  Val R2: 0.8646\n",
      "Ridge:\n",
      "  Train MSE: -232.4599\n",
      "  Train R2: 0.8646\n",
      "  Val MSE: -232.4629\n",
      "  Val R2: 0.8646\n",
      "RandomForest:\n",
      "  Train MSE: -12.4578\n",
      "  Train R2: 0.9927\n",
      "  Val MSE: -15.3424\n",
      "  Val R2: 0.9911\n",
      "GradientBoosting:\n",
      "  Train MSE: -118.2623\n",
      "  Train R2: 0.9311\n",
      "  Val MSE: -118.3361\n",
      "  Val R2: 0.9311\n"
     ]
    }
   ],
   "source": [
    "# for name, model in models:\n",
    "#     pipeline = Pipeline([\n",
    "#         ('features', feature_transformer),\n",
    "#         ('model', model)\n",
    "#     ])\n",
    "#     cv_results = cross_validate(\n",
    "#         pipeline, X_train, y_train,\n",
    "#         cv=5,\n",
    "#         scoring=scoring,\n",
    "#         return_train_score=True,\n",
    "#         n_jobs=-1\n",
    "#     )\n",
    "    \n",
    "#     print(f\"{name}:\")\n",
    "#     print(f\"  Train MSE: {cv_results['train_neg_mse'].mean():.4f}\")\n",
    "#     print(f\"  Train R2: {cv_results['train_r2'].mean():.4f}\")\n",
    "#     print(f\"  Val MSE: {cv_results['test_neg_mse'].mean():.4f}\")\n",
    "#     print(f\"  Val R2: {cv_results['test_r2'].mean():.4f}\")"
   ]
  },
  {
   "cell_type": "code",
   "execution_count": 9,
   "id": "1f1e2dd7",
   "metadata": {},
   "outputs": [],
   "source": [
    "param_grid = {\n",
    "    'model__n_estimators': [100, 200],  \n",
    "    'model__max_depth': [None, 20],    \n",
    "    'model__min_samples_split': [2, 5], \n",
    "    'model__min_samples_leaf': [1, 2],   \n",
    "    'model__bootstrap': [True]           \n",
    "}"
   ]
  },
  {
   "cell_type": "code",
   "execution_count": 10,
   "id": "c1a6c292",
   "metadata": {},
   "outputs": [
    {
     "name": "stdout",
     "output_type": "stream",
     "text": [
      "n_iterations: 5\n",
      "n_required_iterations: 5\n",
      "n_possible_iterations: 5\n",
      "min_resources_: 36246\n",
      "max_resources_: 579941\n",
      "aggressive_elimination: False\n",
      "factor: 2\n",
      "----------\n",
      "iter: 0\n",
      "n_candidates: 16\n",
      "n_resources: 36246\n",
      "Fitting 5 folds for each of 16 candidates, totalling 80 fits\n",
      "----------\n",
      "iter: 1\n",
      "n_candidates: 8\n",
      "n_resources: 72492\n",
      "Fitting 5 folds for each of 8 candidates, totalling 40 fits\n",
      "----------\n",
      "iter: 2\n",
      "n_candidates: 4\n",
      "n_resources: 144984\n",
      "Fitting 5 folds for each of 4 candidates, totalling 20 fits\n",
      "----------\n",
      "iter: 3\n",
      "n_candidates: 2\n",
      "n_resources: 289968\n",
      "Fitting 5 folds for each of 2 candidates, totalling 10 fits\n",
      "----------\n",
      "iter: 4\n",
      "n_candidates: 1\n",
      "n_resources: 579936\n",
      "Fitting 5 folds for each of 1 candidates, totalling 5 fits\n",
      "Best hyperparameters: {'model__bootstrap': True, 'model__max_depth': 20, 'model__min_samples_leaf': 1, 'model__min_samples_split': 5, 'model__n_estimators': 200}\n",
      "Best R2 score: 0.9763973593684877\n"
     ]
    }
   ],
   "source": [
    "# On utilise Halving Grid Search pour utiliser moins de ressources\n",
    "pipeline = Pipeline([\n",
    "    ('features', feature_transformer),\n",
    "    ('model', RandomForestRegressor())\n",
    "])\n",
    "\n",
    "halving_search = HalvingGridSearchCV(\n",
    "    estimator=pipeline,\n",
    "    param_grid=param_grid,\n",
    "    factor=2,  # Pour élminer rapidement les combinaisons non prometteuses\n",
    "    cv=5,\n",
    "    scoring='r2',\n",
    "    refit='r2',\n",
    "    n_jobs=-1,\n",
    "    verbose=2\n",
    ")\n",
    "halving_search.fit(X_train, y_train)\n",
    "\n",
    "# Afficher les meilleurs hyperparamètres et les résultats\n",
    "print(\"Best hyperparameters:\", halving_search.best_params_)\n",
    "print(\"Best R2 score:\", halving_search.best_score_)"
   ]
  },
  {
   "cell_type": "code",
   "execution_count": 11,
   "id": "da7df792",
   "metadata": {},
   "outputs": [
    {
     "name": "stdout",
     "output_type": "stream",
     "text": [
      "Best Model Evaluation:\n",
      "  Train MSE: -26.8933\n",
      "  Train R2: 0.9840\n",
      "  Val MSE: -39.6550\n",
      "  Val R2: 0.9764\n"
     ]
    }
   ],
   "source": [
    "# Évaluer le meilleur modèle sur l'ensemble de validation\n",
    "best_model = halving_search.best_estimator_\n",
    "cv_results = cross_validate(\n",
    "    best_model, X_train, y_train,\n",
    "    cv=5,\n",
    "    scoring=scoring,\n",
    "    return_train_score=True,\n",
    "    n_jobs=-1\n",
    ")\n",
    "\n",
    "print(\"Best Model Evaluation:\")\n",
    "print(f\"  Train MSE: {cv_results['train_neg_mse'].mean():.4f}\")\n",
    "print(f\"  Train R2: {cv_results['train_r2'].mean():.4f}\")\n",
    "print(f\"  Val MSE: {cv_results['test_neg_mse'].mean():.4f}\")\n",
    "print(f\"  Val R2: {cv_results['test_r2'].mean():.4f}\")"
   ]
  }
 ],
 "metadata": {
  "kernelspec": {
   "display_name": ".venv (3.9.2)",
   "language": "python",
   "name": "python3"
  },
  "language_info": {
   "codemirror_mode": {
    "name": "ipython",
    "version": 3
   },
   "file_extension": ".py",
   "mimetype": "text/x-python",
   "name": "python",
   "nbconvert_exporter": "python",
   "pygments_lexer": "ipython3",
   "version": "3.9.2"
  }
 },
 "nbformat": 4,
 "nbformat_minor": 5
}
