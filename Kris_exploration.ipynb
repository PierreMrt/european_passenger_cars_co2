import pandas as pd
import seaborn as sns
import matplotlib.pyplot as plt

# Chargement des données
df = pd.read_csv("C:\\Users\\Pc\\Downloads\\ReducedCO2CARSBE.csv")
plt.figure(figsize=(10, 6))
sns.boxplot(data=df, x='Ft', y='Ewltp (g/km)')
plt.title('Émissions selon le type de carburant')
plt.show()
